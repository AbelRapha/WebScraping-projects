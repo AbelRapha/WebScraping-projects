{
 "cells": [
  {
   "cell_type": "code",
   "execution_count": 1,
   "metadata": {},
   "outputs": [],
   "source": [
    "import zapimoveis_scraper as zap\n",
    "import requests as r\n",
    "import io\n",
    "import pandas as pd\n",
    "import unidecode as code\n",
    "import time"
   ]
  },
  {
   "cell_type": "code",
   "execution_count": 2,
   "metadata": {},
   "outputs": [
    {
     "name": "stderr",
     "output_type": "stream",
     "text": [
      "/home/abel/Documentos/Github/WebScraping-projects/env/lib/python3.8/site-packages/IPython/core/interactiveshell.py:3457: FutureWarning: The error_bad_lines argument has been deprecated and will be removed in a future version.\n",
      "\n",
      "\n",
      "  exec(code_obj, self.user_global_ns, self.user_ns)\n"
     ]
    }
   ],
   "source": [
    "#Importando dados dos bairros do Brasil\n",
    "df_bairros_municipios = pd.read_csv(\"Bairros.csv - Bairro.xlsx - Sheet 1.csv\",error_bad_lines=False, sep=\",\")\n",
    "df_bairros_municipios.drop(labels=\"Endereço\", axis=1, inplace=True)"
   ]
  },
  {
   "cell_type": "code",
   "execution_count": 44,
   "metadata": {},
   "outputs": [],
   "source": [
    "#Retornando no formato lista\n",
    "list_municípios = df_bairros_municipios['Cidade'].to_list()\n",
    "list_bairros = df_bairros_municipios['Bairros'].to_list()\n",
    "\n",
    "#Realizando o enconding para realizar a pesquisa\n",
    "list_municipios = [code.unidecode(cidade.replace(\" \", \"-\").lower()) for cidade in list_municípios]\n",
    "list_bairros = [code.unidecode(bairro.lower().replace(\" \", \"-\")) for bairro in list_bairros]\n",
    "\n",
    "#Unificando listas em um único data-frame\n",
    "df_bairros_municipios = pd.DataFrame(data = zip(list_municipios,list_bairros))"
   ]
  },
  {
   "cell_type": "code",
   "execution_count": 45,
   "metadata": {},
   "outputs": [],
   "source": [
    "#Municípios\n",
    "rondonia = df_bairros_municipios.iloc[0:196,:]\n",
    "amazonas = df_bairros_municipios.iloc[197:475,:]\n",
    "roraima = df_bairros_municipios.iloc[476:530,:]\n",
    "para = df_bairros_municipios.iloc[531:777,:]\n",
    "amapa = df_bairros_municipios.iloc[778:818,:]\n",
    "#Acre\n",
    "#Distrito Federal\n",
    "maranhao = df_bairros_municipios.iloc[819:859,:]\n",
    "piaui = df_bairros_municipios.iloc[860:1240,:]\n",
    "ceara = df_bairros_municipios.iloc[1241:2325,:]\n",
    "rio_grande_do_norte = df_bairros_municipios.iloc[2326:2491,:]\n",
    "paraiba = df_bairros_municipios.iloc[2492:2659,:]\n",
    "pernambuco = df_bairros_municipios.iloc[2660:3186,:]\n",
    "alagoas = df_bairros_municipios.iloc[3186:3308,:]\n",
    "sergipe = df_bairros_municipios.iloc[3309:3396,:]\n",
    "bahia = df_bairros_municipios.iloc[3397:3479,:]\n",
    "minas_gerais = df_bairros_municipios.iloc[3480:5163,:]\n",
    "espirito_santo = df_bairros_municipios.iloc[5164:5795,:]\n",
    "rio_de_janeiro = df_bairros_municipios.iloc[5796:7039,:]\n",
    "sao_paulo = df_bairros_municipios.iloc[7040:9016,:]\n",
    "parana = df_bairros_municipios.iloc[9017:9772,:]\n",
    "santa_catarina = df_bairros_municipios.iloc[9773:11219,:]\n",
    "rio_grande_do_sul = df_bairros_municipios.iloc[11220:13199,:]\n",
    "mato_grosso_do_sul = df_bairros_municipios.iloc[13200:13471,:]\n",
    "mato_grosso = df_bairros_municipios.iloc[13472:14290,:]\n",
    "goias = df_bairros_municipios.iloc[14291:14322,:]\n"
   ]
  },
  {
   "cell_type": "code",
   "execution_count": 46,
   "metadata": {},
   "outputs": [],
   "source": [
    "list_bathrooms = []\n",
    "list_value_rent = []\n",
    "list_bedrooms = []\n",
    "list_area_total = []\n",
    "list_address = []\n",
    "list_links = []\n",
    "list_description = []"
   ]
  },
  {
   "cell_type": "code",
   "execution_count": null,
   "metadata": {},
   "outputs": [],
   "source": [
    "list_sc = []\n",
    "for index,linha in roraima.iterrows():\n",
    "    list_sc.append(f\"{linha[0]}++{linha[1]}\")\n",
    "list_sc"
   ]
  },
  {
   "cell_type": "markdown",
   "metadata": {},
   "source": [
    "# Teste com a região de atibaia"
   ]
  },
  {
   "cell_type": "code",
   "execution_count": 50,
   "metadata": {},
   "outputs": [],
   "source": [
    "lista_filtrada = list(filter(lambda a: a != \"Não encontrado\",list_anuncios))"
   ]
  },
  {
   "cell_type": "code",
   "execution_count": null,
   "metadata": {},
   "outputs": [],
   "source": [
    "lista_filtrada"
   ]
  },
  {
   "cell_type": "code",
   "execution_count": 52,
   "metadata": {},
   "outputs": [
    {
     "name": "stdout",
     "output_type": "stream",
     "text": [
      "369\n"
     ]
    }
   ],
   "source": [
    "cont = 0\n",
    "for item in lista_filtrada:\n",
    "    cont+= len(item)\n",
    "print(cont)"
   ]
  },
  {
   "cell_type": "code",
   "execution_count": 53,
   "metadata": {},
   "outputs": [
    {
     "name": "stdout",
     "output_type": "stream",
     "text": [
      "[<zapimoveis_scraper.item.ZapItem object at 0x7f928b3545e0>] 1\n"
     ]
    }
   ],
   "source": [
    "anuncios = zap.search(localization=\"sp+atibaia++caetetuba\", num_pages=10)\n",
    "print(anuncios, len(anuncios))"
   ]
  },
  {
   "cell_type": "code",
   "execution_count": 54,
   "metadata": {},
   "outputs": [],
   "source": [
    "for atributo in anuncios:\n",
    "    list_bathrooms.append(atributo.bathrooms)\n",
    "    list_bedrooms.append(atributo.bedrooms)\n",
    "    list_value_rent.append(atributo.price)\n",
    "    list_area_total.append(atributo.total_area_m2)\n",
    "    list_address.append(atributo.address)\n",
    "    list_links.append(atributo.link)\n",
    "    list_description.append(atributo.description)\n",
    "\n",
    "# Colocando em um data frame\n",
    "dicionario = {\"Valor Aluguel\": list_value_rent, \n",
    "              \"Qtd Banheiros\": list_bathrooms, \n",
    "              \"Qtd Quartos\": list_bedrooms, \n",
    "              \"Area total\" : list_area_total,\n",
    "              \"Endereço\": list_address,\n",
    "              \"Link do Anúncio\": list_links,\n",
    "              \"Descrição do Anúncio\": list_description}\n",
    "\n",
    "df_anuncios_casas_aluguel = pd.DataFrame.from_dict(dicionario, orient='index')\n",
    "df_anuncios_casas_aluguel = df_anuncios_casas_aluguel.transpose()\n",
    " \n",
    "\n",
    "# Exportando para um arquivo em csv\n",
    "df_anuncios_casas_aluguel.to_csv(\"Anúncios de aluguel de casas.csv\", sep=\";\", index=False)"
   ]
  },
  {
   "cell_type": "code",
   "execution_count": 3,
   "metadata": {},
   "outputs": [],
   "source": [
    "import requests as r\n",
    "from bs4 import BeautifulSoup\n",
    "from selenium import webdriver as web\n",
    "import numpy as np"
   ]
  },
  {
   "cell_type": "code",
   "execution_count": 4,
   "metadata": {},
   "outputs": [],
   "source": [
    "#Retornando no formato lista\n",
    "list_municípios = df_bairros_municipios['Cidade'].to_list()\n",
    "list_estados = df_bairros_municipios['UF'].to_list()\n",
    "#Realizando o enconding para realizar a pesquisa\n",
    "list_municipios = [code.unidecode(cidade.replace(\" \", \"-\")) for cidade in list_municípios]\n",
    "\n",
    "\n",
    "#Unificando listas em um único data-frame\n",
    "df_bairros = pd.DataFrame(data = zip(list_municipios,list_estados))\n",
    "df_bairros.to_csv(\"municipios e estados\", sep=\";\")"
   ]
  },
  {
   "cell_type": "code",
   "execution_count": 5,
   "metadata": {},
   "outputs": [],
   "source": [
    "list_estados = df_bairros_municipios['UF'].unique()\n",
    "list_estados = np.delete(list_estados,2)\n",
    "lista_estados = list(np.insert(list_estados, 0,[\"TO\",\"AC\", \"DF\"]))"
   ]
  },
  {
   "cell_type": "code",
   "execution_count": 8,
   "metadata": {},
   "outputs": [
    {
     "name": "stderr",
     "output_type": "stream",
     "text": [
      "/tmp/ipykernel_1924/2062776933.py:11: DeprecationWarning: find_element_by_* commands are deprecated. Please use find_element() instead\n",
      "  list_cidades = driver.find_element_by_class_name(\"related\")\n"
     ]
    }
   ],
   "source": [
    "option = web.ChromeOptions()\n",
    "#option.headless = True\n",
    "driver = web.Chrome(options=option)\n",
    "\n",
    "lista_cidades_site = []\n",
    "list_ufs = []\n",
    "list_urls = []\n",
    "for estado in lista_estados:\n",
    "    driver.get(f\"https://ceps.io/{estado}/\")\n",
    "    time.sleep(5)\n",
    "    list_cidades = driver.find_element_by_class_name(\"related\")\n",
    "    html__content = list_cidades.get_attribute('outerHTML')\n",
    "    soup = BeautifulSoup(html__content, 'html.parser')\n",
    "    soup_cities = soup.find_all(\"h4\")\n",
    "    soup_cities = soup_cities[:-27]\n",
    "    links = [a['href'] for a in soup.find_all('a', href=True)]\n",
    "    links = links[:-27]\n",
    "    for cidade in soup_cities:\n",
    "        lista_cidades_site.append(cidade.get_text())\n",
    "        list_ufs.append(estado)\n",
    "    for link in links:\n",
    "        list_urls.append(link)\n",
    "        \n",
    "driver.quit()"
   ]
  },
  {
   "cell_type": "code",
   "execution_count": 15,
   "metadata": {},
   "outputs": [],
   "source": [
    "df_uf_cidade = pd.DataFrame(data=zip(lista_cidades_site,list_ufs,new_urls))"
   ]
  },
  {
   "cell_type": "code",
   "execution_count": 25,
   "metadata": {},
   "outputs": [
    {
     "data": {
      "text/html": [
       "<div>\n",
       "<style scoped>\n",
       "    .dataframe tbody tr th:only-of-type {\n",
       "        vertical-align: middle;\n",
       "    }\n",
       "\n",
       "    .dataframe tbody tr th {\n",
       "        vertical-align: top;\n",
       "    }\n",
       "\n",
       "    .dataframe thead th {\n",
       "        text-align: right;\n",
       "    }\n",
       "</style>\n",
       "<table border=\"1\" class=\"dataframe\">\n",
       "  <thead>\n",
       "    <tr style=\"text-align: right;\">\n",
       "      <th></th>\n",
       "      <th>0</th>\n",
       "      <th>1</th>\n",
       "      <th>2</th>\n",
       "    </tr>\n",
       "  </thead>\n",
       "  <tbody>\n",
       "    <tr>\n",
       "      <th>0</th>\n",
       "      <td>Abreulândia</td>\n",
       "      <td>TO</td>\n",
       "      <td>https://ceps.io/TO/Abreulandia/</td>\n",
       "    </tr>\n",
       "    <tr>\n",
       "      <th>1</th>\n",
       "      <td>Aguiarnópolis</td>\n",
       "      <td>TO</td>\n",
       "      <td>https://ceps.io/TO/Aguiarnopolis/</td>\n",
       "    </tr>\n",
       "    <tr>\n",
       "      <th>2</th>\n",
       "      <td>Aliança do Tocantins</td>\n",
       "      <td>TO</td>\n",
       "      <td>https://ceps.io/TO/Alianca-do-Tocantins/</td>\n",
       "    </tr>\n",
       "    <tr>\n",
       "      <th>3</th>\n",
       "      <td>Almas</td>\n",
       "      <td>TO</td>\n",
       "      <td>https://ceps.io/TO/Almas/</td>\n",
       "    </tr>\n",
       "    <tr>\n",
       "      <th>4</th>\n",
       "      <td>Alvorada</td>\n",
       "      <td>TO</td>\n",
       "      <td>https://ceps.io/TO/Alvorada/</td>\n",
       "    </tr>\n",
       "    <tr>\n",
       "      <th>...</th>\n",
       "      <td>...</td>\n",
       "      <td>...</td>\n",
       "      <td>...</td>\n",
       "    </tr>\n",
       "    <tr>\n",
       "      <th>10571</th>\n",
       "      <td>Vianópolis</td>\n",
       "      <td>GO</td>\n",
       "      <td>https://ceps.io/GO/Vianopolis/</td>\n",
       "    </tr>\n",
       "    <tr>\n",
       "      <th>10572</th>\n",
       "      <td>Vicentinópolis</td>\n",
       "      <td>GO</td>\n",
       "      <td>https://ceps.io/GO/Vicentinopolis/</td>\n",
       "    </tr>\n",
       "    <tr>\n",
       "      <th>10573</th>\n",
       "      <td>Vila Boa</td>\n",
       "      <td>GO</td>\n",
       "      <td>https://ceps.io/GO/Vila-Boa/</td>\n",
       "    </tr>\n",
       "    <tr>\n",
       "      <th>10574</th>\n",
       "      <td>Vila Propício</td>\n",
       "      <td>GO</td>\n",
       "      <td>https://ceps.io/GO/Vila-Propicio/</td>\n",
       "    </tr>\n",
       "    <tr>\n",
       "      <th>10575</th>\n",
       "      <td>Vila Sertaneja (Uirapuru)</td>\n",
       "      <td>GO</td>\n",
       "      <td>https://ceps.io/GO/Vila-Sertaneja-Uirapuru/</td>\n",
       "    </tr>\n",
       "  </tbody>\n",
       "</table>\n",
       "<p>10576 rows × 3 columns</p>\n",
       "</div>"
      ],
      "text/plain": [
       "                               0   1  \\\n",
       "0                    Abreulândia  TO   \n",
       "1                  Aguiarnópolis  TO   \n",
       "2           Aliança do Tocantins  TO   \n",
       "3                          Almas  TO   \n",
       "4                       Alvorada  TO   \n",
       "...                          ...  ..   \n",
       "10571                 Vianópolis  GO   \n",
       "10572             Vicentinópolis  GO   \n",
       "10573                   Vila Boa  GO   \n",
       "10574              Vila Propício  GO   \n",
       "10575  Vila Sertaneja (Uirapuru)  GO   \n",
       "\n",
       "                                                 2  \n",
       "0                  https://ceps.io/TO/Abreulandia/  \n",
       "1                https://ceps.io/TO/Aguiarnopolis/  \n",
       "2         https://ceps.io/TO/Alianca-do-Tocantins/  \n",
       "3                        https://ceps.io/TO/Almas/  \n",
       "4                     https://ceps.io/TO/Alvorada/  \n",
       "...                                            ...  \n",
       "10571               https://ceps.io/GO/Vianopolis/  \n",
       "10572           https://ceps.io/GO/Vicentinopolis/  \n",
       "10573                 https://ceps.io/GO/Vila-Boa/  \n",
       "10574            https://ceps.io/GO/Vila-Propicio/  \n",
       "10575  https://ceps.io/GO/Vila-Sertaneja-Uirapuru/  \n",
       "\n",
       "[10576 rows x 3 columns]"
      ]
     },
     "execution_count": 25,
     "metadata": {},
     "output_type": "execute_result"
    }
   ],
   "source": [
    "df_uf_cidade"
   ]
  },
  {
   "cell_type": "code",
   "execution_count": 17,
   "metadata": {},
   "outputs": [],
   "source": [
    "df_uf_cidade.to_csv(\"uf_cidades.csv\")"
   ]
  },
  {
   "cell_type": "markdown",
   "metadata": {},
   "source": [
    "## Pegando todos os bairros de todas as 10k de cidades no Brasil"
   ]
  },
  {
   "cell_type": "code",
   "execution_count": null,
   "metadata": {},
   "outputs": [],
   "source": [
    "new_urls = []\n",
    "for urls in list_urls:\n",
    "    new_urls.append(f\"https://ceps.io{urls}\")\n",
    "new_urls"
   ]
  },
  {
   "cell_type": "code",
   "execution_count": null,
   "metadata": {},
   "outputs": [],
   "source": [
    "option = web.ChromeOptions()\n",
    "#option.headless = True\n",
    "driver = web.Chrome(options=option)\n",
    "\n",
    "lista_bairros = []\n",
    "for bairro in new_urls:\n",
    "    driver.get(bairro)\n",
    "    time.sleep(20)\n",
    "    bairros = driver.find_element_by_class_name(\"related\")\n",
    "    html__content = bairros.get_attribute('outerHTML')\n",
    "    soup = BeautifulSoup(html__content, 'html.parser')\n",
    "    print(soup)\n",
    "driver.quit()"
   ]
  },
  {
   "cell_type": "code",
   "execution_count": 43,
   "metadata": {},
   "outputs": [
    {
     "name": "stderr",
     "output_type": "stream",
     "text": [
      "/tmp/ipykernel_1924/580341197.py:11: DeprecationWarning: find_element_by_* commands are deprecated. Please use find_element() instead\n",
      "  list_bairros = driver.find_element_by_class_name(\"related\")\n"
     ]
    }
   ],
   "source": [
    "option = web.ChromeOptions()\n",
    "#option.headless = True\n",
    "driver = web.Chrome(options=option)\n",
    "\n",
    "ufs = []\n",
    "lista_bairros = []\n",
    "cities = []\n",
    "for index, row in df_uf_cidade.iterrows():\n",
    "    driver.get(row[2])\n",
    "    time.sleep(5)\n",
    "    list_bairros = driver.find_element_by_class_name(\"related\")\n",
    "    html__content = list_bairros.get_attribute('outerHTML')\n",
    "    soup = BeautifulSoup(html__content, 'html.parser')\n",
    "    soup_bairros = soup.find_all(\"h4\")\n",
    "    for bairro in soup_bairros:\n",
    "        if bairro not in df_uf_cidade[0].to_list():\n",
    "            lista_bairros.append(bairro.get_text())\n",
    "            ufs.append(row[1])\n",
    "            cities.append(row[0])\n",
    "driver.quit()"
   ]
  },
  {
   "cell_type": "code",
   "execution_count": 44,
   "metadata": {},
   "outputs": [],
   "source": [
    "df_bairros_cities_uf = pd.DataFrame(data = zip(ufs,cities,lista_bairros))\n",
    "df_bairros_cities_uf.to_csv(\"Bairros Brasil\")"
   ]
  },
  {
   "cell_type": "code",
   "execution_count": 47,
   "metadata": {},
   "outputs": [],
   "source": [
    "df_bairros_cities_uf.rename(columns={0: \"UF\", 1:\"Cidade\", 2:\"Bairro\"}, inplace=True)"
   ]
  },
  {
   "cell_type": "code",
   "execution_count": 49,
   "metadata": {},
   "outputs": [],
   "source": [
    "df_bairros_cities_uf.to_csv(\"Bairros-Brasil.csv\")"
   ]
  }
 ],
 "metadata": {
  "interpreter": {
   "hash": "91ed4e8803dc2847242efe48aec497264b60f65d1e10ae2aa81177ad91a2f8bb"
  },
  "kernelspec": {
   "display_name": "Python 3.8.10 64-bit ('env': venv)",
   "language": "python",
   "name": "python3"
  },
  "language_info": {
   "codemirror_mode": {
    "name": "ipython",
    "version": 3
   },
   "file_extension": ".py",
   "mimetype": "text/x-python",
   "name": "python",
   "nbconvert_exporter": "python",
   "pygments_lexer": "ipython3",
   "version": "3.8.10"
  },
  "orig_nbformat": 4
 },
 "nbformat": 4,
 "nbformat_minor": 2
}
