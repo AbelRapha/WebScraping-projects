{
 "cells": [
  {
   "cell_type": "code",
   "execution_count": 2,
   "metadata": {},
   "outputs": [],
   "source": [
    "import pandas as pd\n",
    "from io import StringIO\n",
    "import unidecode as code"
   ]
  },
  {
   "cell_type": "code",
   "execution_count": 3,
   "metadata": {},
   "outputs": [],
   "source": [
    "bairros = pd.read_csv(\"Bairros-Brasil.csv\")"
   ]
  },
  {
   "cell_type": "code",
   "execution_count": 4,
   "metadata": {},
   "outputs": [
    {
     "name": "stdout",
     "output_type": "stream",
     "text": [
      "<class 'pandas.core.frame.DataFrame'>\n",
      "RangeIndex: 8473808 entries, 0 to 8473807\n",
      "Data columns (total 4 columns):\n",
      " #   Column      Dtype \n",
      "---  ------      ----- \n",
      " 0   Unnamed: 0  int64 \n",
      " 1   UF          object\n",
      " 2   Cidade      object\n",
      " 3   Bairro      object\n",
      "dtypes: int64(1), object(3)\n",
      "memory usage: 258.6+ MB\n"
     ]
    }
   ],
   "source": [
    "bairros.info()"
   ]
  },
  {
   "cell_type": "markdown",
   "metadata": {},
   "source": [
    "cidades = bairros['Cidade'].to_list()"
   ]
  },
  {
   "cell_type": "code",
   "execution_count": 5,
   "metadata": {},
   "outputs": [],
   "source": [
    "cidades = bairros['Cidade'].to_list()"
   ]
  },
  {
   "cell_type": "code",
   "execution_count": 6,
   "metadata": {},
   "outputs": [],
   "source": [
    "cidades_tratadas = []"
   ]
  },
  {
   "cell_type": "code",
   "execution_count": 7,
   "metadata": {},
   "outputs": [],
   "source": [
    "for cidade in cidades:\n",
    "  if \"(\" in cidade:\n",
    "    cities = \"-\".join(cidade.replace(\")\",\"\").lower().split(\"(\")).replace(\" \", \"-\")\n",
    "    if \"--\" in cities:\n",
    "      cidades_tratadas.append(code.unidecode(cities.split(\"--\")[1]))\n",
    "  else:\n",
    "    cidades_tratadas.append(code.unidecode(cidade.lower().replace(\" \",\"-\")))"
   ]
  },
  {
   "cell_type": "code",
   "execution_count": 8,
   "metadata": {},
   "outputs": [
    {
     "name": "stdout",
     "output_type": "stream",
     "text": [
      "8473808\n"
     ]
    }
   ],
   "source": [
    "print(len(cidades_tratadas))"
   ]
  },
  {
   "cell_type": "code",
   "execution_count": 9,
   "metadata": {},
   "outputs": [],
   "source": [
    "estado = [code.unidecode(estado.lower()) for estado in bairros['UF'].to_list()]\n",
    "bairro = [code.unidecode(bairro.lower()) for bairro in bairros[\"Bairro\"].to_list()]  "
   ]
  },
  {
   "cell_type": "code",
   "execution_count": 46,
   "metadata": {},
   "outputs": [],
   "source": [
    "districts = list()\n",
    "for district in bairro:\n",
    "    if \"(\" in district:\n",
    "        districts.append(district.split(\" (\")[0].replace(\" \", \"-\"))\n",
    "    else:\n",
    "        districts.append(district.replace(\" \", \"-\"))"
   ]
  },
  {
   "cell_type": "code",
   "execution_count": 47,
   "metadata": {},
   "outputs": [],
   "source": [
    "localization_brazil = pd.DataFrame(data = {\"Estados\": estado, \"Cidade\": cidades_tratadas, \"Bairro\": districts})"
   ]
  },
  {
   "cell_type": "code",
   "execution_count": 48,
   "metadata": {},
   "outputs": [
    {
     "data": {
      "text/html": [
       "<div>\n",
       "<style scoped>\n",
       "    .dataframe tbody tr th:only-of-type {\n",
       "        vertical-align: middle;\n",
       "    }\n",
       "\n",
       "    .dataframe tbody tr th {\n",
       "        vertical-align: top;\n",
       "    }\n",
       "\n",
       "    .dataframe thead th {\n",
       "        text-align: right;\n",
       "    }\n",
       "</style>\n",
       "<table border=\"1\" class=\"dataframe\">\n",
       "  <thead>\n",
       "    <tr style=\"text-align: right;\">\n",
       "      <th></th>\n",
       "      <th>Estados</th>\n",
       "      <th>Cidade</th>\n",
       "      <th>Bairro</th>\n",
       "    </tr>\n",
       "  </thead>\n",
       "  <tbody>\n",
       "    <tr>\n",
       "      <th>0</th>\n",
       "      <td>to</td>\n",
       "      <td>abreulandia</td>\n",
       "      <td>setor-central</td>\n",
       "    </tr>\n",
       "    <tr>\n",
       "      <th>1</th>\n",
       "      <td>to</td>\n",
       "      <td>abreulandia</td>\n",
       "      <td>abreulandia</td>\n",
       "    </tr>\n",
       "    <tr>\n",
       "      <th>2</th>\n",
       "      <td>to</td>\n",
       "      <td>abreulandia</td>\n",
       "      <td>aguiarnopolis</td>\n",
       "    </tr>\n",
       "    <tr>\n",
       "      <th>3</th>\n",
       "      <td>to</td>\n",
       "      <td>abreulandia</td>\n",
       "      <td>alianca-do-tocantins</td>\n",
       "    </tr>\n",
       "    <tr>\n",
       "      <th>4</th>\n",
       "      <td>to</td>\n",
       "      <td>abreulandia</td>\n",
       "      <td>almas</td>\n",
       "    </tr>\n",
       "    <tr>\n",
       "      <th>5</th>\n",
       "      <td>to</td>\n",
       "      <td>abreulandia</td>\n",
       "      <td>alvorada</td>\n",
       "    </tr>\n",
       "    <tr>\n",
       "      <th>6</th>\n",
       "      <td>to</td>\n",
       "      <td>abreulandia</td>\n",
       "      <td>anajanopolis</td>\n",
       "    </tr>\n",
       "    <tr>\n",
       "      <th>7</th>\n",
       "      <td>to</td>\n",
       "      <td>abreulandia</td>\n",
       "      <td>ananas</td>\n",
       "    </tr>\n",
       "    <tr>\n",
       "      <th>8</th>\n",
       "      <td>to</td>\n",
       "      <td>abreulandia</td>\n",
       "      <td>angico</td>\n",
       "    </tr>\n",
       "    <tr>\n",
       "      <th>9</th>\n",
       "      <td>to</td>\n",
       "      <td>abreulandia</td>\n",
       "      <td>aparecida-do-rio-negro</td>\n",
       "    </tr>\n",
       "    <tr>\n",
       "      <th>10</th>\n",
       "      <td>to</td>\n",
       "      <td>abreulandia</td>\n",
       "      <td>apinaje</td>\n",
       "    </tr>\n",
       "    <tr>\n",
       "      <th>11</th>\n",
       "      <td>to</td>\n",
       "      <td>abreulandia</td>\n",
       "      <td>aragacui</td>\n",
       "    </tr>\n",
       "    <tr>\n",
       "      <th>12</th>\n",
       "      <td>to</td>\n",
       "      <td>abreulandia</td>\n",
       "      <td>aragominas</td>\n",
       "    </tr>\n",
       "    <tr>\n",
       "      <th>13</th>\n",
       "      <td>to</td>\n",
       "      <td>abreulandia</td>\n",
       "      <td>araguacema</td>\n",
       "    </tr>\n",
       "    <tr>\n",
       "      <th>14</th>\n",
       "      <td>to</td>\n",
       "      <td>abreulandia</td>\n",
       "      <td>araguacu</td>\n",
       "    </tr>\n",
       "    <tr>\n",
       "      <th>15</th>\n",
       "      <td>to</td>\n",
       "      <td>abreulandia</td>\n",
       "      <td>araguaina</td>\n",
       "    </tr>\n",
       "    <tr>\n",
       "      <th>16</th>\n",
       "      <td>to</td>\n",
       "      <td>abreulandia</td>\n",
       "      <td>araguana</td>\n",
       "    </tr>\n",
       "    <tr>\n",
       "      <th>17</th>\n",
       "      <td>to</td>\n",
       "      <td>abreulandia</td>\n",
       "      <td>araguatins</td>\n",
       "    </tr>\n",
       "    <tr>\n",
       "      <th>18</th>\n",
       "      <td>to</td>\n",
       "      <td>abreulandia</td>\n",
       "      <td>arapoema</td>\n",
       "    </tr>\n",
       "    <tr>\n",
       "      <th>19</th>\n",
       "      <td>to</td>\n",
       "      <td>abreulandia</td>\n",
       "      <td>arraias</td>\n",
       "    </tr>\n",
       "  </tbody>\n",
       "</table>\n",
       "</div>"
      ],
      "text/plain": [
       "   Estados       Cidade                  Bairro\n",
       "0       to  abreulandia           setor-central\n",
       "1       to  abreulandia             abreulandia\n",
       "2       to  abreulandia           aguiarnopolis\n",
       "3       to  abreulandia    alianca-do-tocantins\n",
       "4       to  abreulandia                   almas\n",
       "5       to  abreulandia                alvorada\n",
       "6       to  abreulandia            anajanopolis\n",
       "7       to  abreulandia                  ananas\n",
       "8       to  abreulandia                  angico\n",
       "9       to  abreulandia  aparecida-do-rio-negro\n",
       "10      to  abreulandia                 apinaje\n",
       "11      to  abreulandia                aragacui\n",
       "12      to  abreulandia              aragominas\n",
       "13      to  abreulandia              araguacema\n",
       "14      to  abreulandia                araguacu\n",
       "15      to  abreulandia               araguaina\n",
       "16      to  abreulandia                araguana\n",
       "17      to  abreulandia              araguatins\n",
       "18      to  abreulandia                arapoema\n",
       "19      to  abreulandia                 arraias"
      ]
     },
     "execution_count": 48,
     "metadata": {},
     "output_type": "execute_result"
    }
   ],
   "source": [
    "localization_brazil.head(20)"
   ]
  },
  {
   "cell_type": "code",
   "execution_count": 49,
   "metadata": {},
   "outputs": [],
   "source": [
    "estados_do_norte = [\"to\", \"am\", \"ap\",\"rr\", \"ro\", \"ac\"]"
   ]
  },
  {
   "cell_type": "markdown",
   "metadata": {},
   "source": [
    "### Estados do Norte"
   ]
  },
  {
   "cell_type": "code",
   "execution_count": 19,
   "metadata": {},
   "outputs": [],
   "source": [
    "df_estados_norte = localization_brazil[localization_brazil.Estados.isin(estados_do_norte)]"
   ]
  },
  {
   "cell_type": "code",
   "execution_count": 26,
   "metadata": {},
   "outputs": [
    {
     "data": {
      "text/plain": [
       "(54665, 3)"
      ]
     },
     "execution_count": 26,
     "metadata": {},
     "output_type": "execute_result"
    }
   ],
   "source": [
    "df_estados_norte.shape"
   ]
  },
  {
   "cell_type": "markdown",
   "metadata": {},
   "source": [
    "Exportando para csv"
   ]
  },
  {
   "cell_type": "code",
   "execution_count": null,
   "metadata": {},
   "outputs": [],
   "source": [
    "df_estados_norte.to_csv(\"Bairros do Norte.csv\")"
   ]
  },
  {
   "cell_type": "markdown",
   "metadata": {},
   "source": [
    "### Realizando a limpeza dos dados"
   ]
  },
  {
   "cell_type": "code",
   "execution_count": 50,
   "metadata": {},
   "outputs": [
    {
     "data": {
      "text/plain": [
       "Estados    0\n",
       "Cidade     0\n",
       "Bairro     0\n",
       "dtype: int64"
      ]
     },
     "execution_count": 50,
     "metadata": {},
     "output_type": "execute_result"
    }
   ],
   "source": [
    "df_estados_norte.isnull().sum()"
   ]
  },
  {
   "cell_type": "code",
   "execution_count": 51,
   "metadata": {},
   "outputs": [
    {
     "name": "stdout",
     "output_type": "stream",
     "text": [
      "16236\n"
     ]
    },
    {
     "data": {
      "text/html": [
       "<div>\n",
       "<style scoped>\n",
       "    .dataframe tbody tr th:only-of-type {\n",
       "        vertical-align: middle;\n",
       "    }\n",
       "\n",
       "    .dataframe tbody tr th {\n",
       "        vertical-align: top;\n",
       "    }\n",
       "\n",
       "    .dataframe thead th {\n",
       "        text-align: right;\n",
       "    }\n",
       "</style>\n",
       "<table border=\"1\" class=\"dataframe\">\n",
       "  <thead>\n",
       "    <tr style=\"text-align: right;\">\n",
       "      <th></th>\n",
       "      <th>Estados</th>\n",
       "      <th>Cidade</th>\n",
       "      <th>Bairro</th>\n",
       "    </tr>\n",
       "  </thead>\n",
       "  <tbody>\n",
       "    <tr>\n",
       "      <th>861</th>\n",
       "      <td>to</td>\n",
       "      <td>pedro-afonso</td>\n",
       "      <td>aguiarnopolis</td>\n",
       "    </tr>\n",
       "    <tr>\n",
       "      <th>862</th>\n",
       "      <td>to</td>\n",
       "      <td>pedro-afonso</td>\n",
       "      <td>alianca do tocantins</td>\n",
       "    </tr>\n",
       "    <tr>\n",
       "      <th>863</th>\n",
       "      <td>to</td>\n",
       "      <td>pedro-afonso</td>\n",
       "      <td>almas</td>\n",
       "    </tr>\n",
       "    <tr>\n",
       "      <th>864</th>\n",
       "      <td>to</td>\n",
       "      <td>pedro-afonso</td>\n",
       "      <td>alvorada</td>\n",
       "    </tr>\n",
       "    <tr>\n",
       "      <th>865</th>\n",
       "      <td>to</td>\n",
       "      <td>pedro-afonso</td>\n",
       "      <td>anajanopolis (pedro afonso)</td>\n",
       "    </tr>\n",
       "    <tr>\n",
       "      <th>866</th>\n",
       "      <td>to</td>\n",
       "      <td>pedro-afonso</td>\n",
       "      <td>ananas</td>\n",
       "    </tr>\n",
       "    <tr>\n",
       "      <th>867</th>\n",
       "      <td>to</td>\n",
       "      <td>pedro-afonso</td>\n",
       "      <td>angico</td>\n",
       "    </tr>\n",
       "    <tr>\n",
       "      <th>868</th>\n",
       "      <td>to</td>\n",
       "      <td>pedro-afonso</td>\n",
       "      <td>aparecida do rio negro</td>\n",
       "    </tr>\n",
       "    <tr>\n",
       "      <th>869</th>\n",
       "      <td>to</td>\n",
       "      <td>pedro-afonso</td>\n",
       "      <td>apinaje (sao valerio da natividade)</td>\n",
       "    </tr>\n",
       "  </tbody>\n",
       "</table>\n",
       "</div>"
      ],
      "text/plain": [
       "    Estados        Cidade                               Bairro\n",
       "861      to  pedro-afonso                        aguiarnopolis\n",
       "862      to  pedro-afonso                 alianca do tocantins\n",
       "863      to  pedro-afonso                                almas\n",
       "864      to  pedro-afonso                             alvorada\n",
       "865      to  pedro-afonso          anajanopolis (pedro afonso)\n",
       "866      to  pedro-afonso                               ananas\n",
       "867      to  pedro-afonso                               angico\n",
       "868      to  pedro-afonso               aparecida do rio negro\n",
       "869      to  pedro-afonso  apinaje (sao valerio da natividade)"
      ]
     },
     "execution_count": 51,
     "metadata": {},
     "output_type": "execute_result"
    }
   ],
   "source": [
    "print(df_estados_norte.duplicated(keep=\"last\").sum())\n",
    "\n",
    "#Locais duplicados\n",
    "df_estados_norte.loc[df_estados_norte.duplicated(['Cidade', \"Bairro\", \"Estados\"],keep=\"last\")].iloc[1:10]"
   ]
  },
  {
   "cell_type": "markdown",
   "metadata": {},
   "source": [
    "### Estados do Centro Oeste"
   ]
  },
  {
   "cell_type": "code",
   "execution_count": 52,
   "metadata": {},
   "outputs": [],
   "source": [
    "estados_do_centro_oeste = [\"go\",\"df\", \"ms\", \"mt\"]"
   ]
  },
  {
   "cell_type": "code",
   "execution_count": 53,
   "metadata": {},
   "outputs": [],
   "source": [
    "df_estados_centro_oeste = localization_brazil[localization_brazil.Estados.isin(estados_do_centro_oeste)]"
   ]
  },
  {
   "cell_type": "code",
   "execution_count": 55,
   "metadata": {},
   "outputs": [
    {
     "data": {
      "text/plain": [
       "(230155, 3)"
      ]
     },
     "execution_count": 55,
     "metadata": {},
     "output_type": "execute_result"
    }
   ],
   "source": [
    "df_estados_centro_oeste.shape"
   ]
  },
  {
   "cell_type": "markdown",
   "metadata": {},
   "source": [
    "Exportando para csv"
   ]
  },
  {
   "cell_type": "code",
   "execution_count": 54,
   "metadata": {},
   "outputs": [],
   "source": [
    "df_estados_centro_oeste.to_csv(\"Bairros do Centro Oeste.csv\")"
   ]
  },
  {
   "cell_type": "markdown",
   "metadata": {},
   "source": [
    "### Realizando a limpeza dos dados"
   ]
  },
  {
   "cell_type": "code",
   "execution_count": 24,
   "metadata": {},
   "outputs": [
    {
     "data": {
      "text/plain": [
       "Estados    0\n",
       "Cidade     0\n",
       "Bairro     0\n",
       "dtype: int64"
      ]
     },
     "execution_count": 24,
     "metadata": {},
     "output_type": "execute_result"
    }
   ],
   "source": [
    "df_estados_centro_oeste.isnull().sum()"
   ]
  },
  {
   "cell_type": "code",
   "execution_count": 25,
   "metadata": {},
   "outputs": [
    {
     "name": "stdout",
     "output_type": "stream",
     "text": [
      "88186\n"
     ]
    },
    {
     "data": {
      "text/html": [
       "<div>\n",
       "<style scoped>\n",
       "    .dataframe tbody tr th:only-of-type {\n",
       "        vertical-align: middle;\n",
       "    }\n",
       "\n",
       "    .dataframe tbody tr th {\n",
       "        vertical-align: top;\n",
       "    }\n",
       "\n",
       "    .dataframe thead th {\n",
       "        text-align: right;\n",
       "    }\n",
       "</style>\n",
       "<table border=\"1\" class=\"dataframe\">\n",
       "  <thead>\n",
       "    <tr style=\"text-align: right;\">\n",
       "      <th></th>\n",
       "      <th>Estados</th>\n",
       "      <th>Cidade</th>\n",
       "      <th>Bairro</th>\n",
       "    </tr>\n",
       "  </thead>\n",
       "  <tbody>\n",
       "    <tr>\n",
       "      <th>8243904</th>\n",
       "      <td>ms</td>\n",
       "      <td>rochedo</td>\n",
       "      <td>agua clara</td>\n",
       "    </tr>\n",
       "    <tr>\n",
       "      <th>8243905</th>\n",
       "      <td>ms</td>\n",
       "      <td>rochedo</td>\n",
       "      <td>albuquerque (corumba)</td>\n",
       "    </tr>\n",
       "    <tr>\n",
       "      <th>8243906</th>\n",
       "      <td>ms</td>\n",
       "      <td>rochedo</td>\n",
       "      <td>alcinopolis</td>\n",
       "    </tr>\n",
       "    <tr>\n",
       "      <th>8243907</th>\n",
       "      <td>ms</td>\n",
       "      <td>rochedo</td>\n",
       "      <td>alto sucuriu (paraiso das aguas)</td>\n",
       "    </tr>\n",
       "    <tr>\n",
       "      <th>8243908</th>\n",
       "      <td>ms</td>\n",
       "      <td>rochedo</td>\n",
       "      <td>amambai</td>\n",
       "    </tr>\n",
       "    <tr>\n",
       "      <th>8243909</th>\n",
       "      <td>ms</td>\n",
       "      <td>rochedo</td>\n",
       "      <td>amandina (ivinhema)</td>\n",
       "    </tr>\n",
       "    <tr>\n",
       "      <th>8243910</th>\n",
       "      <td>ms</td>\n",
       "      <td>rochedo</td>\n",
       "      <td>amolar (corumba)</td>\n",
       "    </tr>\n",
       "    <tr>\n",
       "      <th>8243911</th>\n",
       "      <td>ms</td>\n",
       "      <td>rochedo</td>\n",
       "      <td>anastacio</td>\n",
       "    </tr>\n",
       "    <tr>\n",
       "      <th>8243912</th>\n",
       "      <td>ms</td>\n",
       "      <td>rochedo</td>\n",
       "      <td>anaurilandia</td>\n",
       "    </tr>\n",
       "  </tbody>\n",
       "</table>\n",
       "</div>"
      ],
      "text/plain": [
       "        Estados   Cidade                            Bairro\n",
       "8243904      ms  rochedo                        agua clara\n",
       "8243905      ms  rochedo             albuquerque (corumba)\n",
       "8243906      ms  rochedo                       alcinopolis\n",
       "8243907      ms  rochedo  alto sucuriu (paraiso das aguas)\n",
       "8243908      ms  rochedo                           amambai\n",
       "8243909      ms  rochedo               amandina (ivinhema)\n",
       "8243910      ms  rochedo                  amolar (corumba)\n",
       "8243911      ms  rochedo                         anastacio\n",
       "8243912      ms  rochedo                      anaurilandia"
      ]
     },
     "execution_count": 25,
     "metadata": {},
     "output_type": "execute_result"
    }
   ],
   "source": [
    "print(df_estados_centro_oeste.duplicated(keep=\"last\").sum())\n",
    "\n",
    "#Locais duplicados\n",
    "df_estados_centro_oeste.loc[df_estados_centro_oeste.duplicated(['Cidade', \"Bairro\", \"Estados\"],keep=\"last\")].iloc[1:10]"
   ]
  },
  {
   "cell_type": "markdown",
   "metadata": {},
   "source": [
    "### Estados do Sudeste"
   ]
  },
  {
   "cell_type": "code",
   "execution_count": 56,
   "metadata": {},
   "outputs": [],
   "source": [
    "estados_do_sudeste = [\"sp\", \"rj\", \"es\", \"mg\"]"
   ]
  },
  {
   "cell_type": "code",
   "execution_count": 57,
   "metadata": {},
   "outputs": [],
   "source": [
    "df_estados_sudeste= localization_brazil[localization_brazil.Estados.isin(estados_do_sudeste)]"
   ]
  },
  {
   "cell_type": "code",
   "execution_count": 58,
   "metadata": {},
   "outputs": [
    {
     "data": {
      "text/plain": [
       "(3318080, 3)"
      ]
     },
     "execution_count": 58,
     "metadata": {},
     "output_type": "execute_result"
    }
   ],
   "source": [
    "df_estados_sudeste.shape"
   ]
  },
  {
   "cell_type": "markdown",
   "metadata": {},
   "source": [
    "Exportando para Csv"
   ]
  },
  {
   "cell_type": "code",
   "execution_count": 13,
   "metadata": {},
   "outputs": [],
   "source": [
    "df_estados_sudeste.to_csv(\"Bairros do Sudeste.csv\")"
   ]
  },
  {
   "cell_type": "markdown",
   "metadata": {},
   "source": [
    "### Realizando a limpeza dos dados"
   ]
  },
  {
   "cell_type": "code",
   "execution_count": 29,
   "metadata": {},
   "outputs": [
    {
     "data": {
      "text/plain": [
       "Estados    0\n",
       "Cidade     0\n",
       "Bairro     0\n",
       "dtype: int64"
      ]
     },
     "execution_count": 29,
     "metadata": {},
     "output_type": "execute_result"
    }
   ],
   "source": [
    "df_estados_sudeste.isnull().sum()"
   ]
  },
  {
   "cell_type": "markdown",
   "metadata": {},
   "source": [
    "### Estados do Sul"
   ]
  },
  {
   "cell_type": "code",
   "execution_count": 28,
   "metadata": {},
   "outputs": [],
   "source": [
    "estados_do_sul = [\"sc\", \"pr\", \"rs\"]"
   ]
  },
  {
   "cell_type": "code",
   "execution_count": 29,
   "metadata": {},
   "outputs": [],
   "source": [
    "df_estados_sul = localization_brazil[localization_brazil.Estados.isin(estados_do_sul)]"
   ]
  },
  {
   "cell_type": "code",
   "execution_count": 19,
   "metadata": {},
   "outputs": [
    {
     "data": {
      "text/plain": [
       "(2891242, 3)"
      ]
     },
     "execution_count": 19,
     "metadata": {},
     "output_type": "execute_result"
    }
   ],
   "source": [
    "df_estados_sul.shape"
   ]
  },
  {
   "cell_type": "markdown",
   "metadata": {},
   "source": [
    "Exportando para csv"
   ]
  },
  {
   "cell_type": "code",
   "execution_count": 81,
   "metadata": {},
   "outputs": [],
   "source": [
    "df_estados_sul.to_csv(\"Bairros do Sul.csv\")"
   ]
  },
  {
   "cell_type": "markdown",
   "metadata": {},
   "source": [
    "### Realizando a limpeza dos dados"
   ]
  },
  {
   "cell_type": "code",
   "execution_count": 30,
   "metadata": {},
   "outputs": [
    {
     "data": {
      "text/plain": [
       "Estados    0\n",
       "Cidade     0\n",
       "Bairro     0\n",
       "dtype: int64"
      ]
     },
     "execution_count": 30,
     "metadata": {},
     "output_type": "execute_result"
    }
   ],
   "source": [
    "df_estados_sul.isnull().sum()"
   ]
  },
  {
   "cell_type": "code",
   "execution_count": 31,
   "metadata": {},
   "outputs": [
    {
     "name": "stdout",
     "output_type": "stream",
     "text": [
      "1713189\n"
     ]
    },
    {
     "data": {
      "text/html": [
       "<div>\n",
       "<style scoped>\n",
       "    .dataframe tbody tr th:only-of-type {\n",
       "        vertical-align: middle;\n",
       "    }\n",
       "\n",
       "    .dataframe tbody tr th {\n",
       "        vertical-align: top;\n",
       "    }\n",
       "\n",
       "    .dataframe thead th {\n",
       "        text-align: right;\n",
       "    }\n",
       "</style>\n",
       "<table border=\"1\" class=\"dataframe\">\n",
       "  <thead>\n",
       "    <tr style=\"text-align: right;\">\n",
       "      <th></th>\n",
       "      <th>Estados</th>\n",
       "      <th>Cidade</th>\n",
       "      <th>Bairro</th>\n",
       "    </tr>\n",
       "  </thead>\n",
       "  <tbody>\n",
       "    <tr>\n",
       "      <th>5352661</th>\n",
       "      <td>pr</td>\n",
       "      <td>castro</td>\n",
       "      <td>centro</td>\n",
       "    </tr>\n",
       "    <tr>\n",
       "      <th>5352662</th>\n",
       "      <td>pr</td>\n",
       "      <td>castro</td>\n",
       "      <td>abapa (castro)</td>\n",
       "    </tr>\n",
       "    <tr>\n",
       "      <th>5352663</th>\n",
       "      <td>pr</td>\n",
       "      <td>castro</td>\n",
       "      <td>abatia</td>\n",
       "    </tr>\n",
       "    <tr>\n",
       "      <th>5352664</th>\n",
       "      <td>pr</td>\n",
       "      <td>castro</td>\n",
       "      <td>acampamento das minas (telemaco borba)</td>\n",
       "    </tr>\n",
       "    <tr>\n",
       "      <th>5352665</th>\n",
       "      <td>pr</td>\n",
       "      <td>castro</td>\n",
       "      <td>acungui (rio branco do sul)</td>\n",
       "    </tr>\n",
       "    <tr>\n",
       "      <th>...</th>\n",
       "      <td>...</td>\n",
       "      <td>...</td>\n",
       "      <td>...</td>\n",
       "    </tr>\n",
       "    <tr>\n",
       "      <th>8214937</th>\n",
       "      <td>rs</td>\n",
       "      <td>caxias-do-sul</td>\n",
       "      <td>xadrez (coqueiros do sul)</td>\n",
       "    </tr>\n",
       "    <tr>\n",
       "      <th>8214938</th>\n",
       "      <td>rs</td>\n",
       "      <td>caxias-do-sul</td>\n",
       "      <td>xangri-la</td>\n",
       "    </tr>\n",
       "    <tr>\n",
       "      <th>8214939</th>\n",
       "      <td>rs</td>\n",
       "      <td>caxias-do-sul</td>\n",
       "      <td>xarqueada (putinga)</td>\n",
       "    </tr>\n",
       "    <tr>\n",
       "      <th>8214940</th>\n",
       "      <td>rs</td>\n",
       "      <td>caxias-do-sul</td>\n",
       "      <td>xaxim (progresso)</td>\n",
       "    </tr>\n",
       "    <tr>\n",
       "      <th>8214941</th>\n",
       "      <td>rs</td>\n",
       "      <td>caxias-do-sul</td>\n",
       "      <td>xiniqua (sao pedro do sul)</td>\n",
       "    </tr>\n",
       "  </tbody>\n",
       "</table>\n",
       "<p>1713189 rows × 3 columns</p>\n",
       "</div>"
      ],
      "text/plain": [
       "        Estados         Cidade                                  Bairro\n",
       "5352661      pr         castro                                  centro\n",
       "5352662      pr         castro                          abapa (castro)\n",
       "5352663      pr         castro                                  abatia\n",
       "5352664      pr         castro  acampamento das minas (telemaco borba)\n",
       "5352665      pr         castro             acungui (rio branco do sul)\n",
       "...         ...            ...                                     ...\n",
       "8214937      rs  caxias-do-sul               xadrez (coqueiros do sul)\n",
       "8214938      rs  caxias-do-sul                               xangri-la\n",
       "8214939      rs  caxias-do-sul                     xarqueada (putinga)\n",
       "8214940      rs  caxias-do-sul                       xaxim (progresso)\n",
       "8214941      rs  caxias-do-sul              xiniqua (sao pedro do sul)\n",
       "\n",
       "[1713189 rows x 3 columns]"
      ]
     },
     "execution_count": 31,
     "metadata": {},
     "output_type": "execute_result"
    }
   ],
   "source": [
    "print(df_estados_sul.duplicated(keep=\"last\").sum())\n",
    "\n",
    "#Locais duplicados\n",
    "df_estados_sul.loc[df_estados_sul.duplicated(['Cidade', \"Bairro\", \"Estados\"],keep=\"last\")]"
   ]
  },
  {
   "cell_type": "markdown",
   "metadata": {},
   "source": [
    "### Estados do Nordeste"
   ]
  },
  {
   "cell_type": "code",
   "execution_count": 32,
   "metadata": {},
   "outputs": [],
   "source": [
    "estados_do_nordeste = ['ma', 'pi', 'ce','rn', 'pb', 'pe', 'al', 'se', 'ba']"
   ]
  },
  {
   "cell_type": "code",
   "execution_count": 33,
   "metadata": {},
   "outputs": [],
   "source": [
    "df_estados_nordeste = localization_brazil[localization_brazil.Estados.isin(estados_do_nordeste)]"
   ]
  },
  {
   "cell_type": "code",
   "execution_count": 22,
   "metadata": {},
   "outputs": [
    {
     "data": {
      "text/plain": [
       "(1870818, 3)"
      ]
     },
     "execution_count": 22,
     "metadata": {},
     "output_type": "execute_result"
    }
   ],
   "source": [
    "df_estados_nordeste.shape"
   ]
  },
  {
   "cell_type": "markdown",
   "metadata": {},
   "source": [
    "Exportando para Csv"
   ]
  },
  {
   "cell_type": "code",
   "execution_count": 82,
   "metadata": {},
   "outputs": [],
   "source": [
    "df_estados_nordeste.to_csv(\"Bairros do Nordeste.csv\")"
   ]
  },
  {
   "cell_type": "markdown",
   "metadata": {},
   "source": [
    "### Relizando a Limpeza dos dados"
   ]
  },
  {
   "cell_type": "code",
   "execution_count": 34,
   "metadata": {},
   "outputs": [
    {
     "data": {
      "text/plain": [
       "Estados    0\n",
       "Cidade     0\n",
       "Bairro     0\n",
       "dtype: int64"
      ]
     },
     "execution_count": 34,
     "metadata": {},
     "output_type": "execute_result"
    }
   ],
   "source": [
    "df_estados_nordeste.isnull().sum()"
   ]
  },
  {
   "cell_type": "code",
   "execution_count": 35,
   "metadata": {},
   "outputs": [
    {
     "name": "stdout",
     "output_type": "stream",
     "text": [
      "1050659\n"
     ]
    },
    {
     "data": {
      "text/html": [
       "<div>\n",
       "<style scoped>\n",
       "    .dataframe tbody tr th:only-of-type {\n",
       "        vertical-align: middle;\n",
       "    }\n",
       "\n",
       "    .dataframe tbody tr th {\n",
       "        vertical-align: top;\n",
       "    }\n",
       "\n",
       "    .dataframe thead th {\n",
       "        text-align: right;\n",
       "    }\n",
       "</style>\n",
       "<table border=\"1\" class=\"dataframe\">\n",
       "  <thead>\n",
       "    <tr style=\"text-align: right;\">\n",
       "      <th></th>\n",
       "      <th>Estados</th>\n",
       "      <th>Cidade</th>\n",
       "      <th>Bairro</th>\n",
       "    </tr>\n",
       "  </thead>\n",
       "  <tbody>\n",
       "    <tr>\n",
       "      <th>164518</th>\n",
       "      <td>ma</td>\n",
       "      <td>alcantara</td>\n",
       "      <td>acailandia</td>\n",
       "    </tr>\n",
       "    <tr>\n",
       "      <th>164519</th>\n",
       "      <td>ma</td>\n",
       "      <td>alcantara</td>\n",
       "      <td>afonso cunha</td>\n",
       "    </tr>\n",
       "    <tr>\n",
       "      <th>164520</th>\n",
       "      <td>ma</td>\n",
       "      <td>alcantara</td>\n",
       "      <td>agua doce do maranhao</td>\n",
       "    </tr>\n",
       "    <tr>\n",
       "      <th>164521</th>\n",
       "      <td>ma</td>\n",
       "      <td>alcantara</td>\n",
       "      <td>alcantara</td>\n",
       "    </tr>\n",
       "    <tr>\n",
       "      <th>164522</th>\n",
       "      <td>ma</td>\n",
       "      <td>alcantara</td>\n",
       "      <td>aldeias altas</td>\n",
       "    </tr>\n",
       "    <tr>\n",
       "      <th>164523</th>\n",
       "      <td>ma</td>\n",
       "      <td>alcantara</td>\n",
       "      <td>altamira do maranhao</td>\n",
       "    </tr>\n",
       "    <tr>\n",
       "      <th>164524</th>\n",
       "      <td>ma</td>\n",
       "      <td>alcantara</td>\n",
       "      <td>alto alegre do maranhao</td>\n",
       "    </tr>\n",
       "    <tr>\n",
       "      <th>164525</th>\n",
       "      <td>ma</td>\n",
       "      <td>alcantara</td>\n",
       "      <td>alto alegre do pindare</td>\n",
       "    </tr>\n",
       "    <tr>\n",
       "      <th>164526</th>\n",
       "      <td>ma</td>\n",
       "      <td>alcantara</td>\n",
       "      <td>alto parnaiba</td>\n",
       "    </tr>\n",
       "  </tbody>\n",
       "</table>\n",
       "</div>"
      ],
      "text/plain": [
       "       Estados     Cidade                   Bairro\n",
       "164518      ma  alcantara               acailandia\n",
       "164519      ma  alcantara             afonso cunha\n",
       "164520      ma  alcantara    agua doce do maranhao\n",
       "164521      ma  alcantara                alcantara\n",
       "164522      ma  alcantara            aldeias altas\n",
       "164523      ma  alcantara     altamira do maranhao\n",
       "164524      ma  alcantara  alto alegre do maranhao\n",
       "164525      ma  alcantara   alto alegre do pindare\n",
       "164526      ma  alcantara            alto parnaiba"
      ]
     },
     "execution_count": 35,
     "metadata": {},
     "output_type": "execute_result"
    }
   ],
   "source": [
    "print(df_estados_nordeste.duplicated(keep=\"last\").sum())\n",
    "\n",
    "#Locais duplicados\n",
    "df_estados_nordeste.loc[df_estados_nordeste.duplicated(['Cidade', \"Bairro\", \"Estados\"],keep=\"last\")].iloc[1:10]"
   ]
  }
 ],
 "metadata": {
  "interpreter": {
   "hash": "91ed4e8803dc2847242efe48aec497264b60f65d1e10ae2aa81177ad91a2f8bb"
  },
  "kernelspec": {
   "display_name": "Python 3.8.10 64-bit ('env': venv)",
   "language": "python",
   "name": "python3"
  },
  "language_info": {
   "codemirror_mode": {
    "name": "ipython",
    "version": 3
   },
   "file_extension": ".py",
   "mimetype": "text/x-python",
   "name": "python",
   "nbconvert_exporter": "python",
   "pygments_lexer": "ipython3",
   "version": "3.8.10"
  },
  "orig_nbformat": 4
 },
 "nbformat": 4,
 "nbformat_minor": 2
}
